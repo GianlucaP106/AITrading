{
 "cells": [
  {
   "cell_type": "code",
   "execution_count": 19,
   "metadata": {},
   "outputs": [],
   "source": [
    "import pandas as pd\n",
    "import functools"
   ]
  },
  {
   "cell_type": "markdown",
   "metadata": {},
   "source": [
    "Data Manipulation"
   ]
  },
  {
   "cell_type": "code",
   "execution_count": 54,
   "metadata": {},
   "outputs": [],
   "source": [
    "AUDCAD = pd.read_csv(r\"data\\AUDCAD_M1.csv\", sep=\"\\t\" , parse_dates=[\"Time\"],index_col=\"Time\")\n",
    "AUDCHF = pd.read_csv(r\"data\\AUDCHF_M1.csv\", sep=\"\\t\" , parse_dates=[\"Time\"],index_col=\"Time\")\n",
    "AUDJPY = pd.read_csv(r\"data\\AUDJPY_M1.csv\", sep=\"\\t\" , parse_dates=[\"Time\"],index_col=\"Time\")\n",
    "AUDNZD = pd.read_csv(r\"data\\AUDNZD_M1.csv\", sep=\"\\t\" , parse_dates=[\"Time\"],index_col=\"Time\")\n",
    "AUDUSD = pd.read_csv(r\"data\\AUDUSD_M1.csv\", sep=\"\\t\" , parse_dates=[\"Time\"],index_col=\"Time\")\n",
    "CADKPY = pd.read_csv(r\"data\\CADJPY_M1.csv\", sep=\"\\t\" , parse_dates=[\"Time\"],index_col=\"Time\")\n",
    "CHFJPY = pd.read_csv(r\"data\\CHFJPY_M1.csv\", sep=\"\\t\" , parse_dates=[\"Time\"],index_col=\"Time\")\n",
    "EURAUD = pd.read_csv(r\"data\\EURAUD_M1.csv\", sep=\"\\t\" , parse_dates=[\"Time\"],index_col=\"Time\")\n",
    "EURCAD = pd.read_csv(r\"data\\EURCAD_M1.csv\", sep=\"\\t\" , parse_dates=[\"Time\"],index_col=\"Time\")\n",
    "EURCHF = pd.read_csv(r\"data\\EURCHF_M1.csv\", sep=\"\\t\" , parse_dates=[\"Time\"],index_col=\"Time\")\n",
    "EURGBP = pd.read_csv(r\"data\\EURGBP_M1.csv\", sep=\"\\t\" , parse_dates=[\"Time\"],index_col=\"Time\")\n",
    "EURJPY = pd.read_csv(r\"data\\EURJPY_M1.csv\", sep=\"\\t\" , parse_dates=[\"Time\"],index_col=\"Time\")\n",
    "EURUSD = pd.read_csv(r\"data\\EURUSD_M1.csv\", sep=\"\\t\" , parse_dates=[\"Time\"],index_col=\"Time\")\n",
    "GBPAUD = pd.read_csv(r\"data\\GBPAUD_M1.csv\", sep=\"\\t\" , parse_dates=[\"Time\"],index_col=\"Time\")\n",
    "GBPJPY = pd.read_csv(r\"data\\GBPJPY_M1.csv\", sep=\"\\t\" , parse_dates=[\"Time\"],index_col=\"Time\")\n",
    "GBPUSD = pd.read_csv(r\"data\\GBPUSD_M1.csv\", sep=\"\\t\" , parse_dates=[\"Time\"],index_col=\"Time\")\n",
    "NZDUSD = pd.read_csv(r\"data\\NZDUSD_M1.csv\", sep=\"\\t\" , parse_dates=[\"Time\"],index_col=\"Time\")\n",
    "USDCAD = pd.read_csv(r\"data\\USDCAD_M1.csv\", sep=\"\\t\" , parse_dates=[\"Time\"],index_col=\"Time\")\n",
    "USDCHF = pd.read_csv(r\"data\\USDCHF_M1.csv\", sep=\"\\t\" , parse_dates=[\"Time\"],index_col=\"Time\")\n",
    "USDJPY = pd.read_csv(r\"data\\USDJPY_M1.csv\", sep=\"\\t\" , parse_dates=[\"Time\"],index_col=\"Time\")"
   ]
  },
  {
   "cell_type": "code",
   "execution_count": 55,
   "metadata": {},
   "outputs": [
    {
     "ename": "TypeError",
     "evalue": "merge() got multiple values for argument 'on'",
     "output_type": "error",
     "traceback": [
      "\u001b[1;31m---------------------------------------------------------------------------\u001b[0m",
      "\u001b[1;31mTypeError\u001b[0m                                 Traceback (most recent call last)",
      "\u001b[1;32m<ipython-input-55-3be98a6b6c98>\u001b[0m in \u001b[0;36m<module>\u001b[1;34m\u001b[0m\n\u001b[1;32m----> 1\u001b[1;33m \u001b[0mcombined\u001b[0m \u001b[1;33m=\u001b[0m \u001b[0mpd\u001b[0m\u001b[1;33m.\u001b[0m\u001b[0mmerge\u001b[0m\u001b[1;33m(\u001b[0m\u001b[0mAUDCAD\u001b[0m\u001b[1;33m,\u001b[0m\u001b[0mAUDCHF\u001b[0m\u001b[1;33m,\u001b[0m\u001b[0mAUDJPY\u001b[0m\u001b[1;33m,\u001b[0m\u001b[0mAUDNZD\u001b[0m\u001b[1;33m,\u001b[0m\u001b[0mAUDUSD\u001b[0m\u001b[1;33m,\u001b[0m\u001b[0mCADKPY\u001b[0m\u001b[1;33m,\u001b[0m\u001b[0mCHFJPY\u001b[0m\u001b[1;33m,\u001b[0m\u001b[0mEURAUD\u001b[0m\u001b[1;33m,\u001b[0m\u001b[0mEURCAD\u001b[0m\u001b[1;33m,\u001b[0m\u001b[0mEURCHF\u001b[0m\u001b[1;33m,\u001b[0m\u001b[0mEURGBP\u001b[0m\u001b[1;33m,\u001b[0m\u001b[0mEURJPY\u001b[0m\u001b[1;33m,\u001b[0m\u001b[0mEURUSD\u001b[0m\u001b[1;33m,\u001b[0m\u001b[0mGBPAUD\u001b[0m\u001b[1;33m,\u001b[0m\u001b[0mGBPJPY\u001b[0m\u001b[1;33m,\u001b[0m\u001b[0mGBPUSD\u001b[0m\u001b[1;33m,\u001b[0m\u001b[0mNZDUSD\u001b[0m\u001b[1;33m,\u001b[0m\u001b[0mUSDCAD\u001b[0m\u001b[1;33m,\u001b[0m\u001b[0mUSDCHF\u001b[0m\u001b[1;33m,\u001b[0m\u001b[0mUSDJPY\u001b[0m\u001b[1;33m,\u001b[0m\u001b[0mon\u001b[0m\u001b[1;33m=\u001b[0m\u001b[1;34m'Time'\u001b[0m\u001b[1;33m,\u001b[0m\u001b[0mhow\u001b[0m\u001b[1;33m=\u001b[0m\u001b[1;34m'left'\u001b[0m\u001b[1;33m)\u001b[0m\u001b[1;33m\u001b[0m\u001b[1;33m\u001b[0m\u001b[0m\n\u001b[0m\u001b[0;32m      2\u001b[0m \u001b[0mclose\u001b[0m \u001b[1;33m=\u001b[0m \u001b[0mcombined\u001b[0m\u001b[1;33m[\u001b[0m\u001b[1;33m[\u001b[0m\u001b[1;34m\"Close_x\"\u001b[0m\u001b[1;33m,\u001b[0m\u001b[1;34m\"Close_y\"\u001b[0m\u001b[1;33m]\u001b[0m\u001b[1;33m]\u001b[0m\u001b[1;33m.\u001b[0m\u001b[0mcopy\u001b[0m\u001b[1;33m(\u001b[0m\u001b[1;33m)\u001b[0m\u001b[1;33m.\u001b[0m\u001b[0mdropna\u001b[0m\u001b[1;33m(\u001b[0m\u001b[1;33m)\u001b[0m\u001b[1;33m\u001b[0m\u001b[1;33m\u001b[0m\u001b[0m\n\u001b[0;32m      3\u001b[0m \u001b[0mcombined\u001b[0m\u001b[1;33m.\u001b[0m\u001b[0mhead\u001b[0m\u001b[1;33m(\u001b[0m\u001b[1;33m)\u001b[0m\u001b[1;33m\u001b[0m\u001b[1;33m\u001b[0m\u001b[0m\n",
      "\u001b[1;31mTypeError\u001b[0m: merge() got multiple values for argument 'on'"
     ]
    }
   ],
   "source": [
    "FOREX_PAIRS = [AUDCAD,AUDCHF,AUDJPY,AUDNZD,AUDUSD,CADKPY,CHFJPY,EURAUD,EURCAD,EURCHF,EURGBP,EURJPY,EURUSD,GBPAUD,GBPJPY,GBPUSD,NZDUSD,USDCAD,USDCHF,USDJPY]\n",
    "df_merged = reduce(lambda  left,right: pd.merge(left,right,on=['DATE'],\n",
    "                                            how='outer'), FOREX_PAIRS).fillna('void')\n",
    "combined.head()"
   ]
  },
  {
   "cell_type": "code",
   "execution_count": null,
   "metadata": {},
   "outputs": [],
   "source": []
  }
 ],
 "metadata": {
  "interpreter": {
   "hash": "59a18f5b7e2285f48c30d373e8ec41f04a12e16491c66999661a065ead005b45"
  },
  "kernelspec": {
   "display_name": "Python 3.10.4 64-bit (windows store)",
   "language": "python",
   "name": "python3"
  },
  "language_info": {
   "codemirror_mode": {
    "name": "ipython",
    "version": 3
   },
   "file_extension": ".py",
   "mimetype": "text/x-python",
   "name": "python",
   "nbconvert_exporter": "python",
   "pygments_lexer": "ipython3",
   "version": "3.8.5"
  },
  "orig_nbformat": 4
 },
 "nbformat": 4,
 "nbformat_minor": 2
}
